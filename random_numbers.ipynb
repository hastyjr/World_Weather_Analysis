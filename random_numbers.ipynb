{
 "cells": [
  {
   "cell_type": "markdown",
   "id": "08d8d31b",
   "metadata": {},
   "source": [
    "# Generate Random Latitudes and Longitudes"
   ]
  },
  {
   "cell_type": "markdown",
   "id": "a51df050",
   "metadata": {},
   "source": [
    "##  The random Module"
   ]
  },
  {
   "cell_type": "code",
   "execution_count": 12,
   "id": "e886daa2",
   "metadata": {},
   "outputs": [],
   "source": [
    "# Import the random module.\n",
    "import random"
   ]
  },
  {
   "cell_type": "markdown",
   "id": "830867f0",
   "metadata": {},
   "source": [
    "## The randint() Function"
   ]
  },
  {
   "cell_type": "code",
   "execution_count": 13,
   "id": "5db2c9e2",
   "metadata": {},
   "outputs": [
    {
     "data": {
      "text/plain": [
       "-31"
      ]
     },
     "execution_count": 13,
     "metadata": {},
     "output_type": "execute_result"
    }
   ],
   "source": [
    "random.randint(-90, 90)"
   ]
  },
  {
   "cell_type": "code",
   "execution_count": 14,
   "id": "162c02f6",
   "metadata": {},
   "outputs": [
    {
     "data": {
      "text/plain": [
       "0.9302045937158928"
      ]
     },
     "execution_count": 14,
     "metadata": {},
     "output_type": "execute_result"
    }
   ],
   "source": [
    "random.random()"
   ]
  },
  {
   "cell_type": "code",
   "execution_count": 15,
   "id": "e8e2d667",
   "metadata": {},
   "outputs": [
    {
     "data": {
      "text/plain": [
       "-17.258731196350247"
      ]
     },
     "execution_count": 15,
     "metadata": {},
     "output_type": "execute_result"
    }
   ],
   "source": [
    "random_number = random.randint(-90, 89) + random.random()\n",
    "random_number"
   ]
  },
  {
   "cell_type": "code",
   "execution_count": 16,
   "id": "314330fd",
   "metadata": {},
   "outputs": [
    {
     "data": {
      "text/plain": [
       "[-55.59083443838631,\n",
       " -43.72608528311073,\n",
       " 30.519682378827383,\n",
       " -31.521432278106627,\n",
       " -74.5832407562015,\n",
       " -67.80141629504892,\n",
       " 46.93769203759767,\n",
       " 88.5260556213715,\n",
       " -59.722244074140576,\n",
       " 35.1664047952484]"
      ]
     },
     "execution_count": 16,
     "metadata": {},
     "output_type": "execute_result"
    }
   ],
   "source": [
    "x = 1\n",
    "latitudes = []\n",
    "while x < 11:\n",
    "    random_lat = random.randint(-90, 89) + random.random()\n",
    "    latitudes.append(random_lat)\n",
    "    x += 1\n",
    "latitudes"
   ]
  },
  {
   "cell_type": "code",
   "execution_count": 17,
   "id": "459f87af",
   "metadata": {},
   "outputs": [
    {
     "data": {
      "text/plain": [
       "-76"
      ]
     },
     "execution_count": 17,
     "metadata": {},
     "output_type": "execute_result"
    }
   ],
   "source": [
    "random.randrange(-90, 90, step=1)"
   ]
  },
  {
   "cell_type": "code",
   "execution_count": 18,
   "id": "0557bb4e",
   "metadata": {},
   "outputs": [
    {
     "data": {
      "text/plain": [
       "60"
      ]
     },
     "execution_count": 18,
     "metadata": {},
     "output_type": "execute_result"
    }
   ],
   "source": [
    "random.randrange(-90, 90, step=3)"
   ]
  },
  {
   "cell_type": "code",
   "execution_count": 19,
   "id": "753d2041",
   "metadata": {},
   "outputs": [
    {
     "data": {
      "text/plain": [
       "-44.36594961434008"
      ]
     },
     "execution_count": 19,
     "metadata": {},
     "output_type": "execute_result"
    }
   ],
   "source": [
    "random.uniform(-90, 90)"
   ]
  },
  {
   "cell_type": "markdown",
   "id": "42ec3697",
   "metadata": {},
   "source": [
    "## The uniform() Function"
   ]
  },
  {
   "cell_type": "code",
   "execution_count": 21,
   "id": "e081788a",
   "metadata": {},
   "outputs": [],
   "source": [
    "# Import the NumPy module.\n",
    "import numpy as np"
   ]
  },
  {
   "cell_type": "code",
   "execution_count": 22,
   "id": "99e917ad",
   "metadata": {},
   "outputs": [
    {
     "data": {
      "text/plain": [
       "7.922779350318308"
      ]
     },
     "execution_count": 22,
     "metadata": {},
     "output_type": "execute_result"
    }
   ],
   "source": [
    "np.random.uniform(-90.000, 90.000)"
   ]
  },
  {
   "cell_type": "code",
   "execution_count": 23,
   "id": "90fd5052",
   "metadata": {},
   "outputs": [
    {
     "data": {
      "text/plain": [
       "74.06697378849614"
      ]
     },
     "execution_count": 23,
     "metadata": {},
     "output_type": "execute_result"
    }
   ],
   "source": [
    "np.random.uniform(low=-90, high=90)"
   ]
  },
  {
   "cell_type": "markdown",
   "id": "ba185937",
   "metadata": {},
   "source": [
    "## The NumPy and random Modules"
   ]
  },
  {
   "cell_type": "code",
   "execution_count": 24,
   "id": "1401ac77",
   "metadata": {},
   "outputs": [
    {
     "data": {
      "text/plain": [
       "35.61137337175256"
      ]
     },
     "execution_count": 24,
     "metadata": {},
     "output_type": "execute_result"
    }
   ],
   "source": [
    "np.random.uniform(-90.000, 90.000)"
   ]
  },
  {
   "cell_type": "code",
   "execution_count": 25,
   "id": "d731d766",
   "metadata": {},
   "outputs": [
    {
     "data": {
      "text/plain": [
       "array([ 40.9741616 , -84.45780618, -16.98552796,  61.2906414 ,\n",
       "        58.70114548,  46.53372261,  42.99266294,  31.87044803,\n",
       "       -23.19154318,  38.34385357,   3.85935649,  88.25770097,\n",
       "        40.96846693, -68.8859218 , -21.01262357, -74.04992653,\n",
       "        77.56742756,  79.3262757 ,  49.61608092, -59.84188069,\n",
       "        56.31189649,  41.56639464,   1.7928431 , -46.05749698,\n",
       "        75.02994774, -19.97025205,  65.96531811, -68.46306103,\n",
       "        68.69548446, -53.08452657, -45.2405706 ,   9.1982538 ,\n",
       "         5.60249951,  44.45980744,  58.86500203,  49.27161562,\n",
       "       -43.69534241, -60.67688965, -57.27251354,  50.8672986 ,\n",
       "        36.29546971,  34.45743782, -51.35991571, -51.31647008,\n",
       "       -29.8403946 ,  26.23078036,  63.78435634, -76.3831145 ,\n",
       "        39.53271519,  43.29799404])"
      ]
     },
     "execution_count": 25,
     "metadata": {},
     "output_type": "execute_result"
    }
   ],
   "source": [
    "# 50 floating-point decimal numbers between -90.000 and 90.000.\n",
    "np.random.uniform(-90.000, 90.000, size=50)"
   ]
  },
  {
   "cell_type": "code",
   "execution_count": 26,
   "id": "44acb4a0",
   "metadata": {},
   "outputs": [],
   "source": [
    "# Import timeit.\n",
    "import timeit"
   ]
  },
  {
   "cell_type": "code",
   "execution_count": 27,
   "id": "be2bafbf",
   "metadata": {},
   "outputs": [
    {
     "name": "stdout",
     "output_type": "stream",
     "text": [
      "3.64 µs ± 128 ns per loop (mean ± std. dev. of 7 runs, 100,000 loops each)\n"
     ]
    }
   ],
   "source": [
    "%timeit np.random.uniform(-90.000, 90.000, size=50)"
   ]
  },
  {
   "cell_type": "code",
   "execution_count": 29,
   "id": "ff755b1f",
   "metadata": {},
   "outputs": [
    {
     "name": "stdout",
     "output_type": "stream",
     "text": [
      "1.53 ms ± 48.1 µs per loop (mean ± std. dev. of 7 runs, 1,000 loops each)\n"
     ]
    }
   ],
   "source": [
    "def latitudes(size):\n",
    "    latitudes = []\n",
    "    x = 0\n",
    "    while x < (size):\n",
    "        random_lat = random.randint(-90, 90) + random.random()\n",
    "        latitudes.append(random_lat)\n",
    "        x += 1\n",
    "    return latitudes\n",
    "# Call the function with 1500.\n",
    "%timeit latitudes(1500)\n"
   ]
  },
  {
   "cell_type": "code",
   "execution_count": 31,
   "id": "407f7d0e",
   "metadata": {},
   "outputs": [
    {
     "name": "stdout",
     "output_type": "stream",
     "text": [
      "1.62 ms ± 21.9 µs per loop (mean ± std. dev. of 7 runs, 1,000 loops each)\n"
     ]
    }
   ],
   "source": [
    "# call the function with 1500\n",
    "%timeit latitudes(1500)"
   ]
  },
  {
   "cell_type": "code",
   "execution_count": 32,
   "id": "0e756d21",
   "metadata": {},
   "outputs": [
    {
     "data": {
      "text/plain": [
       "array([-88.64718037,  20.18413522, -51.48047886, ...,  43.7104242 ,\n",
       "        89.17972447, -29.8677544 ])"
      ]
     },
     "execution_count": 32,
     "metadata": {},
     "output_type": "execute_result"
    }
   ],
   "source": [
    "# Use this method is 100 times faster than using the function,\n",
    "# and our code is one line, whereas the function uses eight lines!\n",
    "np.random.uniform(-90.000, 90.000, size=1500)"
   ]
  }
 ],
 "metadata": {
  "kernelspec": {
   "display_name": "PythonData",
   "language": "python",
   "name": "pythondata"
  },
  "language_info": {
   "codemirror_mode": {
    "name": "ipython",
    "version": 3
   },
   "file_extension": ".py",
   "mimetype": "text/x-python",
   "name": "python",
   "nbconvert_exporter": "python",
   "pygments_lexer": "ipython3",
   "version": "3.9.12"
  }
 },
 "nbformat": 4,
 "nbformat_minor": 5
}
